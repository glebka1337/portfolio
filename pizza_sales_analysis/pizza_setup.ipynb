{
 "cells": [
  {
   "cell_type": "code",
   "execution_count": null,
   "metadata": {},
   "outputs": [],
   "source": [
    "import pandas as pd\n",
    "\n",
    "df = pd.read_excel('data_transformed.xlsx')\n",
    "for sheet, df in pd.read_excel('data_transformed.xlsx', sheet_name=None).items():\n",
    "    df.to_csv(f'{sheet}.csv', index=False)"
   ]
  },
  {
   "cell_type": "code",
   "execution_count": 11,
   "metadata": {},
   "outputs": [],
   "source": [
    "# converting time to datetime\n",
    "from datetime import datetime, timedelta\n",
    "import pandas as pd\n",
    "df = pd.read_csv('pizza_db_tables/orders.csv')\n",
    "def to_time_format(t):\n",
    "    seconds = int(t * 3600 * 24)  \n",
    "    seconds = seconds % (24 * 3600)\n",
    "    hour = seconds // 3600\n",
    "    seconds %= 3600\n",
    "    minutes = seconds // 60\n",
    "    seconds %= 60\n",
    "    return f\"{hour:02}:{minutes:02}:{seconds:02}\"\n",
    "\n",
    "\n",
    "df['order_time'] = df['order_time'].apply(to_time_format)\n",
    "df.to_csv('pizza_db_tables/orders.csv', index=False)"
   ]
  },
  {
   "cell_type": "code",
   "execution_count": 8,
   "metadata": {},
   "outputs": [
    {
     "name": "stdout",
     "output_type": "stream",
     "text": [
      "08:13:21\n"
     ]
    }
   ],
   "source": [
    "seconds = 29601\n",
    "\n",
    "seconds = seconds % (24 * 3600)\n",
    "hour = seconds // 3600\n",
    "seconds %= 3600\n",
    "minutes = seconds // 60\n",
    "seconds %= 60\n",
    "\n",
    "print(\"%02d:%02d:%02d\" % (hour, minutes, seconds))"
   ]
  }
 ],
 "metadata": {
  "kernelspec": {
   "display_name": ".venv",
   "language": "python",
   "name": "python3"
  },
  "language_info": {
   "codemirror_mode": {
    "name": "ipython",
    "version": 3
   },
   "file_extension": ".py",
   "mimetype": "text/x-python",
   "name": "python",
   "nbconvert_exporter": "python",
   "pygments_lexer": "ipython3",
   "version": "3.12.2"
  }
 },
 "nbformat": 4,
 "nbformat_minor": 2
}
